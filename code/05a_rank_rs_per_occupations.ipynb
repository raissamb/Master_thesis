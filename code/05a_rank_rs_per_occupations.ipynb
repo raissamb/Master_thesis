{
 "cells": [
  {
   "cell_type": "markdown",
   "id": "4f9fd988-3569-4563-ba53-e3a9bd4f5fa5",
   "metadata": {},
   "source": [
    "# Rank the stations according to their number of occupartions: creating the number of occupations groups \n",
    "\n",
    "## Description\n",
    "\n",
    "This program reads the Repeat station and IGRF database to do the following:\n",
    "- It reads the data to separate the stations into groups of n occupations\n",
    "- The groups are n12 (12 or more), n10 (10 to 11), n08 (8 yo 9), n06 (6 to 7), n03 (3 to 5) and n01 (1 to 2)\n",
    "- It creates a database file for each occupation group\n",
    "- It creates a database file with only the last occupation of each station in order to plot these stations using folium (one coordinate for each station)\n",
    "\n",
    "Attention: three stations were removed from analysis due to being magnetic contaminated according to field reports from 2017 to 2020"
   ]
  },
  {
   "cell_type": "code",
   "execution_count": 1,
   "id": "94966d86-38ba-4034-8f57-11af5c905adc",
   "metadata": {},
   "outputs": [],
   "source": [
    "# Import modules\n",
    "import mestrado_module as mm\n",
    "import matplotlib.pyplot as plt\n",
    "import pandas as pd\n",
    "import seaborn as sns\n",
    "from pathlib import Path\n",
    "import geopandas as gpd\n",
    "from shapely.geometry import Point, Polygon"
   ]
  },
  {
   "cell_type": "code",
   "execution_count": 2,
   "id": "16c39d98-1d88-4cbe-8f6c-8292f854ef84",
   "metadata": {},
   "outputs": [],
   "source": [
    "# Repeat station IGRF database info\n",
    "rs_igrf_folder: Path = Path(mm.path_pipeline_04_igrf_calc)\n",
    "rs_igrf_file: Path = Path(mm.output_4e_code_complete_rs_igrf_database)\n",
    "\n",
    "# Save figures files\n",
    "output_folder: Path = Path(mm.path_pipeline_05_rank_n_occupations)\n",
    "groups_ocp_file: Path = Path(mm.output_5a_code_groups_ocp_df)\n",
    "rs_df_file_n_12: Path = Path(mm.output_5a_code_database_n_12)\n",
    "rs_df_file_n_10: Path = Path(mm.output_5a_code_database_n_10)\n",
    "rs_df_file_n_08: Path = Path(mm.output_5a_code_database_n_08)\n",
    "rs_df_file_n_06: Path = Path(mm.output_5a_code_database_n_06)\n",
    "rs_df_file_n_03: Path = Path(mm.output_5a_code_database_n_03)\n",
    "rs_df_file_n_01: Path = Path(mm.output_5a_code_database_n_01)\n",
    "\n",
    "# Files for Folium plot\n",
    "folium_file_n_12: Path = Path(mm.output_5a_code_folium_file_n_12)\n",
    "folium_file_n_10: Path = Path(mm.output_5a_code_folium_file_n_10)\n",
    "folium_file_n_08: Path = Path(mm.output_5a_code_folium_file_n_08)\n",
    "folium_file_n_06: Path = Path(mm.output_5a_code_folium_file_n_06)\n",
    "folium_file_n_03: Path = Path(mm.output_5a_code_folium_file_n_03)\n",
    "folium_file_n_01: Path = Path(mm.output_5a_code_folium_file_n_01)\n",
    "\n",
    "# Figure style\n",
    "sns.set_style(\"darkgrid\")"
   ]
  },
  {
   "cell_type": "code",
   "execution_count": 3,
   "id": "a2386d70-8f9c-47fa-8c2a-4eb8886ec494",
   "metadata": {},
   "outputs": [
    {
     "name": "stdout",
     "output_type": "stream",
     "text": [
      "<class 'pandas.core.frame.DataFrame'>\n",
      "RangeIndex: 1082 entries, 0 to 1081\n",
      "Data columns (total 39 columns):\n",
      " #   Column                    Non-Null Count  Dtype  \n",
      "---  ------                    --------------  -----  \n",
      " 0   Code                      1082 non-null   object \n",
      " 1   Lat_dd                    1082 non-null   float64\n",
      " 2   Lon_dd                    1082 non-null   float64\n",
      " 3   Alt_m                     1082 non-null   float64\n",
      " 4   Time_dy                   1082 non-null   float64\n",
      " 5   D_dd                      1082 non-null   float64\n",
      " 6   IGRF_D_dd                 1082 non-null   float64\n",
      " 7   I_dd                      1082 non-null   float64\n",
      " 8   IGRF_I_dd                 1082 non-null   float64\n",
      " 9   F_nT                      1082 non-null   float64\n",
      " 10  IGRF_F_nT                 1082 non-null   float64\n",
      " 11  H_nT                      1082 non-null   float64\n",
      " 12  IGRF_H_nT                 1082 non-null   float64\n",
      " 13  X_nT                      1082 non-null   float64\n",
      " 14  IGRF_X_nT                 1082 non-null   float64\n",
      " 15  Calculated_X              1082 non-null   float64\n",
      " 16  Y_nT                      1000 non-null   float64\n",
      " 17  IGRF_Y_nT                 1082 non-null   float64\n",
      " 18  Calculated_Y              1082 non-null   float64\n",
      " 19  Z_nT                      999 non-null    float64\n",
      " 20  IGRF_Z_nT                 1082 non-null   float64\n",
      " 21  Calculated_Z              1082 non-null   float64\n",
      " 22  N_occupations             1082 non-null   int64  \n",
      " 23  Closest_OBS               1082 non-null   object \n",
      " 24  TTB_distances_km          1082 non-null   float64\n",
      " 25  VSS_distances_km          1082 non-null   float64\n",
      " 26  State                     1082 non-null   object \n",
      " 27  Region                    1082 non-null   object \n",
      " 28  RS_name                   1082 non-null   object \n",
      " 29  RMSE_D_Original_values    1082 non-null   float64\n",
      " 30  RMSE_I_Original_values    1082 non-null   float64\n",
      " 31  RMSE_F_Original_values    1082 non-null   float64\n",
      " 32  RMSE_H_Original_values    1082 non-null   float64\n",
      " 33  RMSE_X_Original_values    1082 non-null   float64\n",
      " 34  RMSE_X_Calculated_values  1082 non-null   float64\n",
      " 35  RMSE_Y_Original_values    1059 non-null   float64\n",
      " 36  RMSE_Y_Calculated_values  1082 non-null   float64\n",
      " 37  RMSE_Z_Original_values    1059 non-null   float64\n",
      " 38  RMSE_Z_Calculated_values  1082 non-null   float64\n",
      "dtypes: float64(33), int64(1), object(5)\n",
      "memory usage: 329.8+ KB\n"
     ]
    }
   ],
   "source": [
    "df = pd.read_csv(rs_igrf_folder / rs_igrf_file)\n",
    "df.info()"
   ]
  },
  {
   "cell_type": "markdown",
   "id": "ff091302-d36c-413f-b416-9e4f052f41c7",
   "metadata": {},
   "source": [
    "## Removal of contaminated stations acording to field reports from 2017 to 2020\n",
    "\n",
    "The following stations are going to be removed from further analysis due to being marked as magnetic polluted\n",
    "- Jatai: GO_JAT\n",
    "- Moraes de Almeida: PA_MAL\n",
    "- Santana do Livramento: RS_LIV"
   ]
  },
  {
   "cell_type": "code",
   "execution_count": 4,
   "id": "750da959-d6ec-458b-8397-51fbc6e545af",
   "metadata": {},
   "outputs": [
    {
     "name": "stdout",
     "output_type": "stream",
     "text": [
      "Int64Index([302, 303, 304, 305, 306, 307, 308, 309], dtype='int64')\n",
      "<class 'pandas.core.frame.DataFrame'>\n",
      "RangeIndex: 1074 entries, 0 to 1073\n",
      "Data columns (total 39 columns):\n",
      " #   Column                    Non-Null Count  Dtype  \n",
      "---  ------                    --------------  -----  \n",
      " 0   Code                      1074 non-null   object \n",
      " 1   Lat_dd                    1074 non-null   float64\n",
      " 2   Lon_dd                    1074 non-null   float64\n",
      " 3   Alt_m                     1074 non-null   float64\n",
      " 4   Time_dy                   1074 non-null   float64\n",
      " 5   D_dd                      1074 non-null   float64\n",
      " 6   IGRF_D_dd                 1074 non-null   float64\n",
      " 7   I_dd                      1074 non-null   float64\n",
      " 8   IGRF_I_dd                 1074 non-null   float64\n",
      " 9   F_nT                      1074 non-null   float64\n",
      " 10  IGRF_F_nT                 1074 non-null   float64\n",
      " 11  H_nT                      1074 non-null   float64\n",
      " 12  IGRF_H_nT                 1074 non-null   float64\n",
      " 13  X_nT                      1074 non-null   float64\n",
      " 14  IGRF_X_nT                 1074 non-null   float64\n",
      " 15  Calculated_X              1074 non-null   float64\n",
      " 16  Y_nT                      992 non-null    float64\n",
      " 17  IGRF_Y_nT                 1074 non-null   float64\n",
      " 18  Calculated_Y              1074 non-null   float64\n",
      " 19  Z_nT                      991 non-null    float64\n",
      " 20  IGRF_Z_nT                 1074 non-null   float64\n",
      " 21  Calculated_Z              1074 non-null   float64\n",
      " 22  N_occupations             1074 non-null   int64  \n",
      " 23  Closest_OBS               1074 non-null   object \n",
      " 24  TTB_distances_km          1074 non-null   float64\n",
      " 25  VSS_distances_km          1074 non-null   float64\n",
      " 26  State                     1074 non-null   object \n",
      " 27  Region                    1074 non-null   object \n",
      " 28  RS_name                   1074 non-null   object \n",
      " 29  RMSE_D_Original_values    1074 non-null   float64\n",
      " 30  RMSE_I_Original_values    1074 non-null   float64\n",
      " 31  RMSE_F_Original_values    1074 non-null   float64\n",
      " 32  RMSE_H_Original_values    1074 non-null   float64\n",
      " 33  RMSE_X_Original_values    1074 non-null   float64\n",
      " 34  RMSE_X_Calculated_values  1074 non-null   float64\n",
      " 35  RMSE_Y_Original_values    1051 non-null   float64\n",
      " 36  RMSE_Y_Calculated_values  1074 non-null   float64\n",
      " 37  RMSE_Z_Original_values    1051 non-null   float64\n",
      " 38  RMSE_Z_Calculated_values  1074 non-null   float64\n",
      "dtypes: float64(33), int64(1), object(5)\n",
      "memory usage: 327.4+ KB\n"
     ]
    }
   ],
   "source": [
    "# Deleting GO_JAT\n",
    "df1 = df\n",
    "\n",
    "# Get index for the rows with stations to be deleted\n",
    "go_jat_index = df1[df1.Code == \"GO_JAT\"].index\n",
    "\n",
    "# print the rows\n",
    "print(go_jat_index)\n",
    "\n",
    "df_go_jat_del = df1.drop(go_jat_index)\n",
    "df_go_jat_del = df_go_jat_del.reset_index()\n",
    "\n",
    "# drop the index column\n",
    "df_go_jat_del = df_go_jat_del.drop(columns=[\"index\"])\n",
    "\n",
    "# view\n",
    "df_go_jat_del.info()"
   ]
  },
  {
   "cell_type": "code",
   "execution_count": 5,
   "id": "513fd138-57e0-4275-a10c-8ac032846913",
   "metadata": {},
   "outputs": [
    {
     "name": "stdout",
     "output_type": "stream",
     "text": [
      "Int64Index([601], dtype='int64')\n",
      "<class 'pandas.core.frame.DataFrame'>\n",
      "RangeIndex: 1073 entries, 0 to 1072\n",
      "Data columns (total 39 columns):\n",
      " #   Column                    Non-Null Count  Dtype  \n",
      "---  ------                    --------------  -----  \n",
      " 0   Code                      1073 non-null   object \n",
      " 1   Lat_dd                    1073 non-null   float64\n",
      " 2   Lon_dd                    1073 non-null   float64\n",
      " 3   Alt_m                     1073 non-null   float64\n",
      " 4   Time_dy                   1073 non-null   float64\n",
      " 5   D_dd                      1073 non-null   float64\n",
      " 6   IGRF_D_dd                 1073 non-null   float64\n",
      " 7   I_dd                      1073 non-null   float64\n",
      " 8   IGRF_I_dd                 1073 non-null   float64\n",
      " 9   F_nT                      1073 non-null   float64\n",
      " 10  IGRF_F_nT                 1073 non-null   float64\n",
      " 11  H_nT                      1073 non-null   float64\n",
      " 12  IGRF_H_nT                 1073 non-null   float64\n",
      " 13  X_nT                      1073 non-null   float64\n",
      " 14  IGRF_X_nT                 1073 non-null   float64\n",
      " 15  Calculated_X              1073 non-null   float64\n",
      " 16  Y_nT                      991 non-null    float64\n",
      " 17  IGRF_Y_nT                 1073 non-null   float64\n",
      " 18  Calculated_Y              1073 non-null   float64\n",
      " 19  Z_nT                      990 non-null    float64\n",
      " 20  IGRF_Z_nT                 1073 non-null   float64\n",
      " 21  Calculated_Z              1073 non-null   float64\n",
      " 22  N_occupations             1073 non-null   int64  \n",
      " 23  Closest_OBS               1073 non-null   object \n",
      " 24  TTB_distances_km          1073 non-null   float64\n",
      " 25  VSS_distances_km          1073 non-null   float64\n",
      " 26  State                     1073 non-null   object \n",
      " 27  Region                    1073 non-null   object \n",
      " 28  RS_name                   1073 non-null   object \n",
      " 29  RMSE_D_Original_values    1073 non-null   float64\n",
      " 30  RMSE_I_Original_values    1073 non-null   float64\n",
      " 31  RMSE_F_Original_values    1073 non-null   float64\n",
      " 32  RMSE_H_Original_values    1073 non-null   float64\n",
      " 33  RMSE_X_Original_values    1073 non-null   float64\n",
      " 34  RMSE_X_Calculated_values  1073 non-null   float64\n",
      " 35  RMSE_Y_Original_values    1050 non-null   float64\n",
      " 36  RMSE_Y_Calculated_values  1073 non-null   float64\n",
      " 37  RMSE_Z_Original_values    1050 non-null   float64\n",
      " 38  RMSE_Z_Calculated_values  1073 non-null   float64\n",
      "dtypes: float64(33), int64(1), object(5)\n",
      "memory usage: 327.1+ KB\n"
     ]
    }
   ],
   "source": [
    "# Deleting PA_MAL\n",
    "df2 = df_go_jat_del\n",
    "\n",
    "# Get index for the rows with stations to be deleted\n",
    "pa_mal_index = df2[df2.Code == \"PA_MAL\"].index\n",
    "\n",
    "# print the rows\n",
    "print(pa_mal_index)\n",
    "\n",
    "df_pa_mal_del = df2.drop(pa_mal_index)\n",
    "df_pa_mal_del = df_pa_mal_del.reset_index()\n",
    "\n",
    "# drop the index column\n",
    "df_pa_mal_del = df_pa_mal_del.drop(columns=[\"index\"])\n",
    "\n",
    "# view\n",
    "df_pa_mal_del.info()"
   ]
  },
  {
   "cell_type": "code",
   "execution_count": 6,
   "id": "19a0bd76-4b81-4f2f-ae26-3284d23fb945",
   "metadata": {},
   "outputs": [
    {
     "name": "stdout",
     "output_type": "stream",
     "text": [
      "Int64Index([861, 862, 863, 864, 865, 866, 867, 868, 869, 870, 871, 872, 873,\n",
      "            874, 875],\n",
      "           dtype='int64')\n",
      "<class 'pandas.core.frame.DataFrame'>\n",
      "RangeIndex: 1058 entries, 0 to 1057\n",
      "Data columns (total 39 columns):\n",
      " #   Column                    Non-Null Count  Dtype  \n",
      "---  ------                    --------------  -----  \n",
      " 0   Code                      1058 non-null   object \n",
      " 1   Lat_dd                    1058 non-null   float64\n",
      " 2   Lon_dd                    1058 non-null   float64\n",
      " 3   Alt_m                     1058 non-null   float64\n",
      " 4   Time_dy                   1058 non-null   float64\n",
      " 5   D_dd                      1058 non-null   float64\n",
      " 6   IGRF_D_dd                 1058 non-null   float64\n",
      " 7   I_dd                      1058 non-null   float64\n",
      " 8   IGRF_I_dd                 1058 non-null   float64\n",
      " 9   F_nT                      1058 non-null   float64\n",
      " 10  IGRF_F_nT                 1058 non-null   float64\n",
      " 11  H_nT                      1058 non-null   float64\n",
      " 12  IGRF_H_nT                 1058 non-null   float64\n",
      " 13  X_nT                      1058 non-null   float64\n",
      " 14  IGRF_X_nT                 1058 non-null   float64\n",
      " 15  Calculated_X              1058 non-null   float64\n",
      " 16  Y_nT                      977 non-null    float64\n",
      " 17  IGRF_Y_nT                 1058 non-null   float64\n",
      " 18  Calculated_Y              1058 non-null   float64\n",
      " 19  Z_nT                      976 non-null    float64\n",
      " 20  IGRF_Z_nT                 1058 non-null   float64\n",
      " 21  Calculated_Z              1058 non-null   float64\n",
      " 22  N_occupations             1058 non-null   int64  \n",
      " 23  Closest_OBS               1058 non-null   object \n",
      " 24  TTB_distances_km          1058 non-null   float64\n",
      " 25  VSS_distances_km          1058 non-null   float64\n",
      " 26  State                     1058 non-null   object \n",
      " 27  Region                    1058 non-null   object \n",
      " 28  RS_name                   1058 non-null   object \n",
      " 29  RMSE_D_Original_values    1058 non-null   float64\n",
      " 30  RMSE_I_Original_values    1058 non-null   float64\n",
      " 31  RMSE_F_Original_values    1058 non-null   float64\n",
      " 32  RMSE_H_Original_values    1058 non-null   float64\n",
      " 33  RMSE_X_Original_values    1058 non-null   float64\n",
      " 34  RMSE_X_Calculated_values  1058 non-null   float64\n",
      " 35  RMSE_Y_Original_values    1035 non-null   float64\n",
      " 36  RMSE_Y_Calculated_values  1058 non-null   float64\n",
      " 37  RMSE_Z_Original_values    1035 non-null   float64\n",
      " 38  RMSE_Z_Calculated_values  1058 non-null   float64\n",
      "dtypes: float64(33), int64(1), object(5)\n",
      "memory usage: 322.5+ KB\n"
     ]
    }
   ],
   "source": [
    "# Deleting RS_LIV\n",
    "df3 = df_pa_mal_del\n",
    "\n",
    "# Get index for the rows with stations to be deleted\n",
    "rs_liv_index = df3[df3.Code == \"RS_LIV\"].index\n",
    "\n",
    "# print the rows\n",
    "print(rs_liv_index)\n",
    "\n",
    "df_rs_liv_del = df3.drop(rs_liv_index)\n",
    "df_rs_liv_del = df_rs_liv_del.reset_index()\n",
    "\n",
    "# drop the index column\n",
    "df_rs_liv_del = df_rs_liv_del.drop(columns=[\"index\"])\n",
    "\n",
    "# view\n",
    "df_rs_liv_del.info()"
   ]
  },
  {
   "cell_type": "code",
   "execution_count": 7,
   "id": "c7ec20b8-6e63-401b-ad3f-6ebdc0ba7dee",
   "metadata": {},
   "outputs": [],
   "source": [
    "# Create new dataframe for work\n",
    "aux_df = df_rs_liv_del"
   ]
  },
  {
   "cell_type": "markdown",
   "id": "440777c3-e581-48a6-bf92-70058b083e98",
   "metadata": {},
   "source": [
    "## Separate the repeat stations that have n or more occupations into groups to create their geodataframe to save them in files for later use"
   ]
  },
  {
   "cell_type": "markdown",
   "id": "2dffd06b-c343-4fba-ab03-85d2d052508e",
   "metadata": {},
   "source": [
    "### Group 01: 12 or more occupations"
   ]
  },
  {
   "cell_type": "code",
   "execution_count": 8,
   "id": "a4333076-1f8c-4f84-acc2-0a289d000f7c",
   "metadata": {},
   "outputs": [],
   "source": [
    "# Create a dataframe with stations that have been occupied more than a value or equal to it: CUT OUT VALUE VARIABLE DEFINED AT THE BEGGINING\n",
    "# Df with n or more occuaptions\n",
    "n12 = 12\n",
    "rs_ocp_high_n_12 = aux_df[aux_df[\"N_occupations\"] >= n12]  \n",
    "rs_ocp_high_n_12\n",
    "\n",
    "# Check info\n",
    "#rs_ocp_high_n_12.info()\n",
    "\n",
    "# Save the file\n",
    "rs_ocp_high_n_12.to_csv(output_folder / rs_df_file_n_12, index=False, float_format=\"%.3f\")"
   ]
  },
  {
   "cell_type": "markdown",
   "id": "d0e1039f-0230-4ae6-8ce3-158795883160",
   "metadata": {},
   "source": [
    "### Group 02: between 10 and 11 occupations"
   ]
  },
  {
   "cell_type": "code",
   "execution_count": 9,
   "id": "c35e17b0-8b81-40e0-9323-b582b0dcfa53",
   "metadata": {},
   "outputs": [],
   "source": [
    "# Create a dataframe with stations that have been occupied more than a value or equal to it\n",
    "# Df with n or more occuaptions\n",
    "n10 = 10\n",
    "n11 = 11\n",
    "rs_ocp_high_n_10 = aux_df[aux_df[\"N_occupations\"].between(n10,n11)]\n",
    "rs_ocp_high_n_10\n",
    "\n",
    "# Check info\n",
    "#rs_ocp_high_n_10.info()\n",
    "\n",
    "# Save the file\n",
    "rs_ocp_high_n_10.to_csv(output_folder / rs_df_file_n_10, index=False, float_format=\"%.3f\")"
   ]
  },
  {
   "cell_type": "markdown",
   "id": "86b5d101-4eaf-41db-a23a-0cbd308e165d",
   "metadata": {},
   "source": [
    "### Group 03: between 8 and 9 occupations"
   ]
  },
  {
   "cell_type": "code",
   "execution_count": 10,
   "id": "c124694b-5ebd-48a8-8a20-262251b22674",
   "metadata": {},
   "outputs": [],
   "source": [
    "# Create a dataframe with stations that have been occupied more than a value or equal to it\n",
    "# Df with n or more occuaptions\n",
    "n8 = 8\n",
    "n9 = 9\n",
    "rs_ocp_high_n_08 = aux_df[aux_df[\"N_occupations\"].between(n8,n9)]\n",
    "rs_ocp_high_n_08\n",
    "\n",
    "# Check info\n",
    "#rs_ocp_high_n_08.info()\n",
    "\n",
    "# Save the file\n",
    "rs_ocp_high_n_08.to_csv(output_folder / rs_df_file_n_08, index=False, float_format=\"%.3f\")"
   ]
  },
  {
   "cell_type": "markdown",
   "id": "d4545696-146f-48b4-a151-dd3671e03dbd",
   "metadata": {},
   "source": [
    "### Group 04: between 6 and 7 occupations"
   ]
  },
  {
   "cell_type": "code",
   "execution_count": 11,
   "id": "70665c97-cf09-47e5-b9b7-433bd887dc4e",
   "metadata": {},
   "outputs": [],
   "source": [
    "# Create a dataframe with stations that have been occupied more than a value or equal to it: CUT OUT VALUE VARIABLE DEFINED AT THE BEGGINING\n",
    "# Df with n or more occuaptions\n",
    "n6 = 6\n",
    "n7 = 7\n",
    "rs_ocp_high_n_06 = aux_df[aux_df[\"N_occupations\"].between(n6,n7)]\n",
    "rs_ocp_high_n_06\n",
    "\n",
    "# Check info\n",
    "#rs_ocp_high_n_06.info()\n",
    "\n",
    "# Save the file\n",
    "rs_ocp_high_n_06.to_csv(output_folder / rs_df_file_n_06, index=False, float_format=\"%.3f\")"
   ]
  },
  {
   "cell_type": "markdown",
   "id": "98bbd40c-780e-4d6b-a814-c57978767e82",
   "metadata": {},
   "source": [
    "### Group 06: between 3 to 5 occupations"
   ]
  },
  {
   "cell_type": "code",
   "execution_count": 12,
   "id": "90a52e3c-56a0-47c8-80de-c96ec25c362d",
   "metadata": {},
   "outputs": [],
   "source": [
    "# Create a dataframe with stations that have been occupied more than a value or equal to it: CUT OUT VALUE VARIABLE DEFINED AT THE BEGGINING\n",
    "# Df with n or more occuaptions\n",
    "n3 = 3\n",
    "n5 = 5\n",
    "rs_ocp_high_n_03 = aux_df[aux_df[\"N_occupations\"].between(n3,n5)]\n",
    "rs_ocp_high_n_03\n",
    "\n",
    "# Check info\n",
    "#rs_ocp_high_n_03.info()\n",
    "\n",
    "# Save the file\n",
    "rs_ocp_high_n_03.to_csv(output_folder / rs_df_file_n_03, index=False, float_format=\"%.3f\")"
   ]
  },
  {
   "cell_type": "markdown",
   "id": "f731e031-6e6e-4753-863c-ae0a50f85e03",
   "metadata": {},
   "source": [
    "### Group 06: between 1 and 2 occupations"
   ]
  },
  {
   "cell_type": "code",
   "execution_count": 13,
   "id": "edfcb315-6c83-43e5-b832-9411d0d1d842",
   "metadata": {},
   "outputs": [],
   "source": [
    "# Create a dataframe with stations that have been occupied more than a value or equal to it\n",
    "# Df with n or more occuaptions\n",
    "n1 = 1\n",
    "n2 = 2\n",
    "rs_ocp_high_n_01 = aux_df[aux_df[\"N_occupations\"].between(n1,n2)]\n",
    "rs_ocp_high_n_01\n",
    "\n",
    "# Check info\n",
    "#rs_ocp_high_n_01.info()\n",
    "\n",
    "# Save the file\n",
    "rs_ocp_high_n_01.to_csv(output_folder / rs_df_file_n_01, index=False, float_format=\"%.3f\")"
   ]
  },
  {
   "cell_type": "markdown",
   "id": "e1787f58-d01d-4857-ade8-fe90507ba0f9",
   "metadata": {},
   "source": [
    "## Dataframe with number of stations per group and only the last occupation present (to use with folium)"
   ]
  },
  {
   "cell_type": "code",
   "execution_count": 14,
   "id": "ef67067b-79b2-4075-9627-cac84a198c31",
   "metadata": {},
   "outputs": [
    {
     "name": "stdout",
     "output_type": "stream",
     "text": [
      "23\n",
      "13\n",
      "20\n",
      "18\n",
      "49\n",
      "92\n"
     ]
    }
   ],
   "source": [
    "# Define the number of stations for each group\n",
    "df_aux12 = rs_ocp_high_n_12.drop_duplicates(subset=\"Code\", keep=\"last\", inplace=False)\n",
    "df_aux12.to_csv(output_folder / folium_file_n_12, index=False, float_format=\"%.3f\")\n",
    "n_12 = len(df_aux12)\n",
    "print(n_12)\n",
    "\n",
    "df_aux10 = rs_ocp_high_n_10.drop_duplicates(subset=\"Code\", keep=\"last\", inplace=False)\n",
    "df_aux10.to_csv(output_folder / folium_file_n_10, index=False, float_format=\"%.3f\")\n",
    "n_10 = len(df_aux10)\n",
    "print(n_10)\n",
    "\n",
    "df_aux08 = rs_ocp_high_n_08.drop_duplicates(subset=\"Code\", keep=\"last\", inplace=False)\n",
    "df_aux08.to_csv(output_folder / folium_file_n_08, index=False, float_format=\"%.3f\")\n",
    "n_08 = len(df_aux08)\n",
    "print(n_08)\n",
    "      \n",
    "df_aux06 = rs_ocp_high_n_06.drop_duplicates(subset=\"Code\", keep=\"last\", inplace=False)\n",
    "df_aux06.to_csv(output_folder / folium_file_n_06, index=False, float_format=\"%.3f\")\n",
    "n_06 = len(df_aux06)\n",
    "print(n_06)\n",
    "\n",
    "df_aux03 = rs_ocp_high_n_03.drop_duplicates(subset=\"Code\", keep=\"last\", inplace=False)\n",
    "df_aux03.to_csv(output_folder / folium_file_n_03, index=False, float_format=\"%.3f\")\n",
    "n_03 = len(df_aux03)\n",
    "print(n_03)\n",
    "\n",
    "df_aux01 = rs_ocp_high_n_01.drop_duplicates(subset=\"Code\", keep=\"last\", inplace=False)\n",
    "df_aux01.to_csv(output_folder / folium_file_n_01, index=False, float_format=\"%.3f\")\n",
    "n_01 = len(df_aux01)\n",
    "print(n_01)\n"
   ]
  },
  {
   "cell_type": "code",
   "execution_count": 15,
   "id": "46e848e6-c4ea-470e-830e-dcb18537c75e",
   "metadata": {},
   "outputs": [],
   "source": [
    "# Create the dataframe\n",
    "data = {\"Group\": [\"01\", \"02\", \"03\", \"04\", \"05\", \"06\"], \"Number of occupations\": [\"12 or more\", \"10 to 11\", \"8 to 9\", \"6 to 7\", \"3 to 5\", \"1 to 2\"], \"Number of stations\": [n_12, n_10, n_08, n_06, n_03, n_01]}\n",
    "group_ocp_df = pd.DataFrame(data = data) \n",
    "\n",
    "# View it\n",
    "group_ocp_df.to_csv(output_folder / groups_ocp_file, index=False, float_format=\"%.3f\")"
   ]
  },
  {
   "cell_type": "code",
   "execution_count": null,
   "id": "fc0a2741-117d-4a7b-8627-e3a292c7613f",
   "metadata": {},
   "outputs": [],
   "source": []
  }
 ],
 "metadata": {
  "kernelspec": {
   "display_name": "Python 3 (ipykernel)",
   "language": "python",
   "name": "python3"
  },
  "language_info": {
   "codemirror_mode": {
    "name": "ipython",
    "version": 3
   },
   "file_extension": ".py",
   "mimetype": "text/x-python",
   "name": "python",
   "nbconvert_exporter": "python",
   "pygments_lexer": "ipython3",
   "version": "3.10.1"
  }
 },
 "nbformat": 4,
 "nbformat_minor": 5
}
